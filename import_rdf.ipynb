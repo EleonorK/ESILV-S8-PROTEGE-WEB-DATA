{
 "cells": [
  {
   "attachments": {},
   "cell_type": "markdown",
   "metadata": {},
   "source": [
    "# **IMPORT INTO RDF**"
   ]
  },
  {
   "cell_type": "code",
   "execution_count": 1,
   "metadata": {},
   "outputs": [],
   "source": [
    "import pandas as pd"
   ]
  },
  {
   "cell_type": "code",
   "execution_count": 2,
   "metadata": {},
   "outputs": [],
   "source": [
    "#The variable where we will store all the new rdf content\n",
    "text_final=\"\" "
   ]
  },
  {
   "attachments": {},
   "cell_type": "markdown",
   "metadata": {},
   "source": [
    "# Dataset for THEATER"
   ]
  },
  {
   "attachments": {},
   "cell_type": "markdown",
   "metadata": {},
   "source": [
    "## Cleaning"
   ]
  },
  {
   "cell_type": "code",
   "execution_count": 3,
   "metadata": {},
   "outputs": [
    {
     "data": {
      "text/html": [
       "<div>\n",
       "<style scoped>\n",
       "    .dataframe tbody tr th:only-of-type {\n",
       "        vertical-align: middle;\n",
       "    }\n",
       "\n",
       "    .dataframe tbody tr th {\n",
       "        vertical-align: top;\n",
       "    }\n",
       "\n",
       "    .dataframe thead th {\n",
       "        text-align: right;\n",
       "    }\n",
       "</style>\n",
       "<table border=\"1\" class=\"dataframe\">\n",
       "  <thead>\n",
       "    <tr style=\"text-align: right;\">\n",
       "      <th></th>\n",
       "      <th>N° auto</th>\n",
       "      <th>nom</th>\n",
       "      <th>région administrative</th>\n",
       "      <th>adresse</th>\n",
       "      <th>code INSEE</th>\n",
       "      <th>commune</th>\n",
       "      <th>population de la commune</th>\n",
       "      <th>DEP</th>\n",
       "      <th>N°UU</th>\n",
       "      <th>unité urbaine</th>\n",
       "      <th>...</th>\n",
       "      <th>nombre de films en semaine 1</th>\n",
       "      <th>PdM en entrées des films français</th>\n",
       "      <th>PdM en entrées des films américains</th>\n",
       "      <th>PdM en entrées des films européens</th>\n",
       "      <th>PdM en entrées des autres films</th>\n",
       "      <th>films Art et Essai</th>\n",
       "      <th>PdM en entrées des films Art et Essai</th>\n",
       "      <th>latitude</th>\n",
       "      <th>longitude</th>\n",
       "      <th>geolocalisation</th>\n",
       "    </tr>\n",
       "  </thead>\n",
       "  <tbody>\n",
       "    <tr>\n",
       "      <th>0</th>\n",
       "      <td>54</td>\n",
       "      <td>GAUMONT CHAMPS ELYSEES MARIGNAN</td>\n",
       "      <td>ILE-DE-FRANCE</td>\n",
       "      <td>27/33 AVENUE DES CHAMPS ELYSEES</td>\n",
       "      <td>75108</td>\n",
       "      <td>Paris 8e Arrondissement</td>\n",
       "      <td>36827.0</td>\n",
       "      <td>75</td>\n",
       "      <td>00851</td>\n",
       "      <td>Paris</td>\n",
       "      <td>...</td>\n",
       "      <td>66.0</td>\n",
       "      <td>22.077070</td>\n",
       "      <td>55.579168</td>\n",
       "      <td>20.830900</td>\n",
       "      <td>1.512862</td>\n",
       "      <td>9.0</td>\n",
       "      <td>7.583575</td>\n",
       "      <td>48.869654</td>\n",
       "      <td>2.306873</td>\n",
       "      <td>48.869654, 2.306873</td>\n",
       "    </tr>\n",
       "    <tr>\n",
       "      <th>1</th>\n",
       "      <td>311</td>\n",
       "      <td>GRAND REX</td>\n",
       "      <td>ILE-DE-FRANCE</td>\n",
       "      <td>5 BD POISSONNIERE</td>\n",
       "      <td>75102</td>\n",
       "      <td>Paris 2e Arrondissement</td>\n",
       "      <td>21561.0</td>\n",
       "      <td>75</td>\n",
       "      <td>00851</td>\n",
       "      <td>Paris</td>\n",
       "      <td>...</td>\n",
       "      <td>78.0</td>\n",
       "      <td>16.722357</td>\n",
       "      <td>66.827151</td>\n",
       "      <td>10.889319</td>\n",
       "      <td>5.561173</td>\n",
       "      <td>5.0</td>\n",
       "      <td>10.080847</td>\n",
       "      <td>48.868720</td>\n",
       "      <td>2.347608</td>\n",
       "      <td>48.86872, 2.347608</td>\n",
       "    </tr>\n",
       "    <tr>\n",
       "      <th>2</th>\n",
       "      <td>451</td>\n",
       "      <td>UGC MONTPARNASSE</td>\n",
       "      <td>ILE-DE-FRANCE</td>\n",
       "      <td>83 BD DU MONTPARNASSE</td>\n",
       "      <td>75106</td>\n",
       "      <td>Paris 6e Arrondissement</td>\n",
       "      <td>41384.0</td>\n",
       "      <td>75</td>\n",
       "      <td>00851</td>\n",
       "      <td>Paris</td>\n",
       "      <td>...</td>\n",
       "      <td>74.0</td>\n",
       "      <td>46.697245</td>\n",
       "      <td>37.310727</td>\n",
       "      <td>15.992028</td>\n",
       "      <td>0.000000</td>\n",
       "      <td>18.0</td>\n",
       "      <td>28.506839</td>\n",
       "      <td>48.843510</td>\n",
       "      <td>2.325646</td>\n",
       "      <td>48.84351, 2.325646</td>\n",
       "    </tr>\n",
       "  </tbody>\n",
       "</table>\n",
       "<p>3 rows × 40 columns</p>\n",
       "</div>"
      ],
      "text/plain": [
       "   N° auto                              nom région administrative  \\\n",
       "0       54  GAUMONT CHAMPS ELYSEES MARIGNAN         ILE-DE-FRANCE   \n",
       "1      311                        GRAND REX         ILE-DE-FRANCE   \n",
       "2      451                 UGC MONTPARNASSE         ILE-DE-FRANCE   \n",
       "\n",
       "                           adresse code INSEE                  commune  \\\n",
       "0  27/33 AVENUE DES CHAMPS ELYSEES      75108  Paris 8e Arrondissement   \n",
       "1                5 BD POISSONNIERE      75102  Paris 2e Arrondissement   \n",
       "2            83 BD DU MONTPARNASSE      75106  Paris 6e Arrondissement   \n",
       "\n",
       "   population de la commune DEP   N°UU unité urbaine  ...  \\\n",
       "0                   36827.0  75  00851         Paris  ...   \n",
       "1                   21561.0  75  00851         Paris  ...   \n",
       "2                   41384.0  75  00851         Paris  ...   \n",
       "\n",
       "   nombre de films en semaine 1 PdM en entrées des films français  \\\n",
       "0                          66.0                         22.077070   \n",
       "1                          78.0                         16.722357   \n",
       "2                          74.0                         46.697245   \n",
       "\n",
       "   PdM en entrées des films américains  PdM en entrées des films européens  \\\n",
       "0                            55.579168                           20.830900   \n",
       "1                            66.827151                           10.889319   \n",
       "2                            37.310727                           15.992028   \n",
       "\n",
       "   PdM en entrées des autres films  films Art et Essai  \\\n",
       "0                         1.512862                 9.0   \n",
       "1                         5.561173                 5.0   \n",
       "2                         0.000000                18.0   \n",
       "\n",
       "   PdM en entrées des films Art et Essai   latitude  longitude  \\\n",
       "0                               7.583575  48.869654   2.306873   \n",
       "1                              10.080847  48.868720   2.347608   \n",
       "2                              28.506839  48.843510   2.325646   \n",
       "\n",
       "       geolocalisation  \n",
       "0  48.869654, 2.306873  \n",
       "1   48.86872, 2.347608  \n",
       "2   48.84351, 2.325646  \n",
       "\n",
       "[3 rows x 40 columns]"
      ]
     },
     "execution_count": 3,
     "metadata": {},
     "output_type": "execute_result"
    }
   ],
   "source": [
    "dft = pd.read_csv(\"etablissements-cinematographiques.csv\", sep=\";\")\n",
    "dft.head(3)"
   ]
  },
  {
   "cell_type": "code",
   "execution_count": 4,
   "metadata": {},
   "outputs": [],
   "source": [
    "dft_new = pd.DataFrame({'nom':dft['nom']})\n",
    "dft_new = dft_new.merge(dft[['adresse','nom']])\n",
    "dft_new = dft_new.merge(dft[['commune','nom']])\n",
    "dft_new = dft_new.assign(new_col=\"France\")\n",
    "dft_new.columns = ['Name', 'Location','City', 'Country']\n",
    "dft_new = dft_new.head(3)"
   ]
  },
  {
   "attachments": {},
   "cell_type": "markdown",
   "metadata": {},
   "source": [
    "## Text creation"
   ]
  },
  {
   "cell_type": "code",
   "execution_count": 5,
   "metadata": {},
   "outputs": [
    {
     "name": "stdout",
     "output_type": "stream",
     "text": [
      "    <!-- http://www.semanticweb.org/kiouloueleonor/ontologies/2023/2/untitled-ontology-16#GAUMONT_CHAMPS_ELYSEES_MARIGNAN_Paris_8e_Arrondissement -->\n",
      "\n",
      "    <owl:NamedIndividual rdf:about=\"http://www.semanticweb.org/kiouloueleonor/ontologies/2023/2/untitled-ontology-16#GAUMONT_CHAMPS_ELYSEES_MARIGNAN_Paris_8e_Arrondissement\">\n",
      "\t<rdf:type rdf:resource=\"http://www.semanticweb.org/kiouloueleonor/ontologies/2023/2/untitled-ontology-16#Theater\"/>\n",
      "\t<untitled-ontology-16:Country>France</untitled-ontology-16:Country>\n",
      "\t<untitled-ontology-16:Location>27/33 AVENUE DES CHAMPS ELYSEES</untitled-ontology-16:Location>\n",
      "\t<untitled-ontology-16:Name>GAUMONT CHAMPS ELYSEES MARIGNAN_Paris 8e Arrondissement</untitled-ontology-16:Name>\n",
      "    </owl:NamedIndividual>\n",
      "    <!-- http://www.semanticweb.org/kiouloueleonor/ontologies/2023/2/untitled-ontology-16#GRAND_REX_Paris_2e_Arrondissement -->\n",
      "\n",
      "    <owl:NamedIndividual rdf:about=\"http://www.semanticweb.org/kiouloueleonor/ontologies/2023/2/untitled-ontology-16#GRAND_REX_Paris_2e_Arrondissement\">\n",
      "\t<rdf:type rdf:resource=\"http://www.semanticweb.org/kiouloueleonor/ontologies/2023/2/untitled-ontology-16#Theater\"/>\n",
      "\t<untitled-ontology-16:Country>France</untitled-ontology-16:Country>\n",
      "\t<untitled-ontology-16:Location>5 BD POISSONNIERE</untitled-ontology-16:Location>\n",
      "\t<untitled-ontology-16:Name>GRAND REX_Paris 2e Arrondissement</untitled-ontology-16:Name>\n",
      "    </owl:NamedIndividual>\n",
      "    <!-- http://www.semanticweb.org/kiouloueleonor/ontologies/2023/2/untitled-ontology-16#UGC_MONTPARNASSE_Paris_6e_Arrondissement -->\n",
      "\n",
      "    <owl:NamedIndividual rdf:about=\"http://www.semanticweb.org/kiouloueleonor/ontologies/2023/2/untitled-ontology-16#UGC_MONTPARNASSE_Paris_6e_Arrondissement\">\n",
      "\t<rdf:type rdf:resource=\"http://www.semanticweb.org/kiouloueleonor/ontologies/2023/2/untitled-ontology-16#Theater\"/>\n",
      "\t<untitled-ontology-16:Country>France</untitled-ontology-16:Country>\n",
      "\t<untitled-ontology-16:Location>83 BD DU MONTPARNASSE</untitled-ontology-16:Location>\n",
      "\t<untitled-ontology-16:Name>UGC MONTPARNASSE_Paris 6e Arrondissement</untitled-ontology-16:Name>\n",
      "    </owl:NamedIndividual>\n"
     ]
    }
   ],
   "source": [
    "indiv = \"\\n\\n\";\n",
    "col = []\n",
    "for index, row in dft_new.iterrows():\n",
    "    name = row['Name']\n",
    "    name += \"_\"+row['City']\n",
    "    name = name.replace(\"&\", \"and\")\n",
    "    location = row['Location']\n",
    "    location = location.replace(\"&\", \"and\")\n",
    "    country = row['Country']\n",
    "    individual = name.replace(\" \", \"_\")\n",
    "    col.append(individual) #retrieve value for schedule\n",
    "    \n",
    "    text = f'    <!-- http://www.semanticweb.org/kiouloueleonor/ontologies/2023/2/untitled-ontology-16#{individual} -->\\n\\n'\n",
    "    text += f'    <owl:NamedIndividual rdf:about=\"http://www.semanticweb.org/kiouloueleonor/ontologies/2023/2/untitled-ontology-16#{individual}\">\\n'\n",
    "    text += f'\\t<rdf:type rdf:resource=\"http://www.semanticweb.org/kiouloueleonor/ontologies/2023/2/untitled-ontology-16#Theater\"/>\\n'\n",
    "    text += f'\\t<untitled-ontology-16:Country>{country}</untitled-ontology-16:Country>\\n'\n",
    "    text += f'\\t<untitled-ontology-16:Location>{location}</untitled-ontology-16:Location>\\n'\n",
    "    text += f'\\t<untitled-ontology-16:Name>{name}</untitled-ontology-16:Name>\\n'\n",
    "    text += '    </owl:NamedIndividual>'\n",
    "    \n",
    "    print(text)\n",
    "    indiv += \"\\n\\n\" + text + \"\\n\\n\"\n",
    "dft_new = dft_new.assign(indiv_name = col)\n",
    "text_final += indiv"
   ]
  },
  {
   "cell_type": "code",
   "execution_count": 6,
   "metadata": {},
   "outputs": [
    {
     "data": {
      "text/html": [
       "<div>\n",
       "<style scoped>\n",
       "    .dataframe tbody tr th:only-of-type {\n",
       "        vertical-align: middle;\n",
       "    }\n",
       "\n",
       "    .dataframe tbody tr th {\n",
       "        vertical-align: top;\n",
       "    }\n",
       "\n",
       "    .dataframe thead th {\n",
       "        text-align: right;\n",
       "    }\n",
       "</style>\n",
       "<table border=\"1\" class=\"dataframe\">\n",
       "  <thead>\n",
       "    <tr style=\"text-align: right;\">\n",
       "      <th></th>\n",
       "      <th>Name</th>\n",
       "      <th>Location</th>\n",
       "      <th>City</th>\n",
       "      <th>Country</th>\n",
       "      <th>indiv_name</th>\n",
       "    </tr>\n",
       "  </thead>\n",
       "  <tbody>\n",
       "    <tr>\n",
       "      <th>0</th>\n",
       "      <td>GAUMONT CHAMPS ELYSEES MARIGNAN</td>\n",
       "      <td>27/33 AVENUE DES CHAMPS ELYSEES</td>\n",
       "      <td>Paris 8e Arrondissement</td>\n",
       "      <td>France</td>\n",
       "      <td>GAUMONT_CHAMPS_ELYSEES_MARIGNAN_Paris_8e_Arron...</td>\n",
       "    </tr>\n",
       "    <tr>\n",
       "      <th>1</th>\n",
       "      <td>GRAND REX</td>\n",
       "      <td>5 BD POISSONNIERE</td>\n",
       "      <td>Paris 2e Arrondissement</td>\n",
       "      <td>France</td>\n",
       "      <td>GRAND_REX_Paris_2e_Arrondissement</td>\n",
       "    </tr>\n",
       "    <tr>\n",
       "      <th>2</th>\n",
       "      <td>UGC MONTPARNASSE</td>\n",
       "      <td>83 BD DU MONTPARNASSE</td>\n",
       "      <td>Paris 6e Arrondissement</td>\n",
       "      <td>France</td>\n",
       "      <td>UGC_MONTPARNASSE_Paris_6e_Arrondissement</td>\n",
       "    </tr>\n",
       "  </tbody>\n",
       "</table>\n",
       "</div>"
      ],
      "text/plain": [
       "                              Name                         Location  \\\n",
       "0  GAUMONT CHAMPS ELYSEES MARIGNAN  27/33 AVENUE DES CHAMPS ELYSEES   \n",
       "1                        GRAND REX                5 BD POISSONNIERE   \n",
       "2                 UGC MONTPARNASSE            83 BD DU MONTPARNASSE   \n",
       "\n",
       "                      City Country  \\\n",
       "0  Paris 8e Arrondissement  France   \n",
       "1  Paris 2e Arrondissement  France   \n",
       "2  Paris 6e Arrondissement  France   \n",
       "\n",
       "                                          indiv_name  \n",
       "0  GAUMONT_CHAMPS_ELYSEES_MARIGNAN_Paris_8e_Arron...  \n",
       "1                  GRAND_REX_Paris_2e_Arrondissement  \n",
       "2           UGC_MONTPARNASSE_Paris_6e_Arrondissement  "
      ]
     },
     "execution_count": 6,
     "metadata": {},
     "output_type": "execute_result"
    }
   ],
   "source": [
    "dft_new"
   ]
  },
  {
   "attachments": {},
   "cell_type": "markdown",
   "metadata": {},
   "source": [
    "# Dataset for PERSON , MOVIE, SCHEDULE"
   ]
  },
  {
   "attachments": {},
   "cell_type": "markdown",
   "metadata": {},
   "source": [
    "## Cleaning"
   ]
  },
  {
   "cell_type": "code",
   "execution_count": 7,
   "metadata": {},
   "outputs": [
    {
     "data": {
      "text/html": [
       "<div>\n",
       "<style scoped>\n",
       "    .dataframe tbody tr th:only-of-type {\n",
       "        vertical-align: middle;\n",
       "    }\n",
       "\n",
       "    .dataframe tbody tr th {\n",
       "        vertical-align: top;\n",
       "    }\n",
       "\n",
       "    .dataframe thead th {\n",
       "        text-align: right;\n",
       "    }\n",
       "</style>\n",
       "<table border=\"1\" class=\"dataframe\">\n",
       "  <thead>\n",
       "    <tr style=\"text-align: right;\">\n",
       "      <th></th>\n",
       "      <th>movie_id</th>\n",
       "      <th>title</th>\n",
       "      <th>genres</th>\n",
       "      <th>release_date</th>\n",
       "      <th>cast</th>\n",
       "      <th>cast_complet</th>\n",
       "      <th>production_companies</th>\n",
       "      <th>budget</th>\n",
       "      <th>popularity</th>\n",
       "      <th>spoken_languages</th>\n",
       "      <th>vote_average</th>\n",
       "    </tr>\n",
       "  </thead>\n",
       "  <tbody>\n",
       "    <tr>\n",
       "      <th>0</th>\n",
       "      <td>19995</td>\n",
       "      <td>Avatar</td>\n",
       "      <td>['Action', 'Adventure', 'Fantasy', 'Science Fi...</td>\n",
       "      <td>2009-12-10</td>\n",
       "      <td>['Sam Worthington', 'Zoe Saldana', 'Sigourney ...</td>\n",
       "      <td>['Sam Worthington', 'Zoe Saldana', 'Sigourney ...</td>\n",
       "      <td>['Ingenious Film Partners', 'Twentieth Century...</td>\n",
       "      <td>237000000</td>\n",
       "      <td>150.437577</td>\n",
       "      <td>['en', 'es']</td>\n",
       "      <td>7.2</td>\n",
       "    </tr>\n",
       "    <tr>\n",
       "      <th>1</th>\n",
       "      <td>285</td>\n",
       "      <td>Pirates of the Caribbean: At World's End</td>\n",
       "      <td>['Adventure', 'Fantasy', 'Action']</td>\n",
       "      <td>2007-05-19</td>\n",
       "      <td>['Johnny Depp', 'Orlando Bloom', 'Keira Knight...</td>\n",
       "      <td>['Johnny Depp', 'Orlando Bloom', 'Keira Knight...</td>\n",
       "      <td>['Walt Disney Pictures', 'Jerry Bruckheimer Fi...</td>\n",
       "      <td>300000000</td>\n",
       "      <td>139.082615</td>\n",
       "      <td>['en']</td>\n",
       "      <td>6.9</td>\n",
       "    </tr>\n",
       "    <tr>\n",
       "      <th>2</th>\n",
       "      <td>206647</td>\n",
       "      <td>Spectre</td>\n",
       "      <td>['Action', 'Adventure', 'Crime']</td>\n",
       "      <td>2015-10-26</td>\n",
       "      <td>['Daniel Craig', 'Christoph Waltz', 'Léa Seydo...</td>\n",
       "      <td>['Daniel Craig', 'Christoph Waltz', 'Léa Seydo...</td>\n",
       "      <td>['Columbia Pictures', 'Danjaq', 'B24']</td>\n",
       "      <td>245000000</td>\n",
       "      <td>107.376788</td>\n",
       "      <td>['fr', 'en', 'es', 'it', 'de']</td>\n",
       "      <td>6.3</td>\n",
       "    </tr>\n",
       "  </tbody>\n",
       "</table>\n",
       "</div>"
      ],
      "text/plain": [
       "   movie_id                                     title  \\\n",
       "0     19995                                    Avatar   \n",
       "1       285  Pirates of the Caribbean: At World's End   \n",
       "2    206647                                   Spectre   \n",
       "\n",
       "                                              genres release_date  \\\n",
       "0  ['Action', 'Adventure', 'Fantasy', 'Science Fi...   2009-12-10   \n",
       "1                 ['Adventure', 'Fantasy', 'Action']   2007-05-19   \n",
       "2                   ['Action', 'Adventure', 'Crime']   2015-10-26   \n",
       "\n",
       "                                                cast  \\\n",
       "0  ['Sam Worthington', 'Zoe Saldana', 'Sigourney ...   \n",
       "1  ['Johnny Depp', 'Orlando Bloom', 'Keira Knight...   \n",
       "2  ['Daniel Craig', 'Christoph Waltz', 'Léa Seydo...   \n",
       "\n",
       "                                        cast_complet  \\\n",
       "0  ['Sam Worthington', 'Zoe Saldana', 'Sigourney ...   \n",
       "1  ['Johnny Depp', 'Orlando Bloom', 'Keira Knight...   \n",
       "2  ['Daniel Craig', 'Christoph Waltz', 'Léa Seydo...   \n",
       "\n",
       "                                production_companies     budget  popularity  \\\n",
       "0  ['Ingenious Film Partners', 'Twentieth Century...  237000000  150.437577   \n",
       "1  ['Walt Disney Pictures', 'Jerry Bruckheimer Fi...  300000000  139.082615   \n",
       "2             ['Columbia Pictures', 'Danjaq', 'B24']  245000000  107.376788   \n",
       "\n",
       "                 spoken_languages  vote_average  \n",
       "0                    ['en', 'es']           7.2  \n",
       "1                          ['en']           6.9  \n",
       "2  ['fr', 'en', 'es', 'it', 'de']           6.3  "
      ]
     },
     "execution_count": 7,
     "metadata": {},
     "output_type": "execute_result"
    }
   ],
   "source": [
    "df = pd.read_csv(\"new_data.csv\", sep=';')\n",
    "df.head(3)"
   ]
  },
  {
   "attachments": {},
   "cell_type": "markdown",
   "metadata": {},
   "source": [
    "Drop the columns and movies we don't need"
   ]
  },
  {
   "cell_type": "code",
   "execution_count": 8,
   "metadata": {},
   "outputs": [],
   "source": [
    "df = df.drop(columns=['movie_id','cast_complet', 'production_companies', 'budget', 'popularity', 'vote_average','genres', 'spoken_languages'])\n",
    "df = df.head(3)"
   ]
  },
  {
   "attachments": {},
   "cell_type": "markdown",
   "metadata": {},
   "source": [
    "Creation of the columns we need"
   ]
  },
  {
   "cell_type": "code",
   "execution_count": 9,
   "metadata": {},
   "outputs": [],
   "source": [
    "#Retrive the years \n",
    "liste_years = df['release_date']\n",
    "years = []\n",
    "for string in liste_years:\n",
    "    years.append(int(string[:4]))"
   ]
  },
  {
   "cell_type": "code",
   "execution_count": 10,
   "metadata": {},
   "outputs": [],
   "source": [
    "df = df.assign(Country=\"USA\")\n",
    "df = df.assign(genres=\"Action\")\n",
    "df = df.assign(spoken_languages\t=\"English\")\n",
    "df = df.assign(Years=years)"
   ]
  },
  {
   "cell_type": "code",
   "execution_count": 11,
   "metadata": {},
   "outputs": [],
   "source": [
    "date_fin = ['2010-02-24','2007-09-19','2016-01-07']\n",
    "prog = ['schedule_Avatar', 'schedule_POTC', 'schedule_Spectre']\n",
    "df = df.assign(end_date=date_fin)\n",
    "df = df.assign(schedule=prog)"
   ]
  },
  {
   "cell_type": "code",
   "execution_count": 12,
   "metadata": {},
   "outputs": [
    {
     "data": {
      "text/html": [
       "<div>\n",
       "<style scoped>\n",
       "    .dataframe tbody tr th:only-of-type {\n",
       "        vertical-align: middle;\n",
       "    }\n",
       "\n",
       "    .dataframe tbody tr th {\n",
       "        vertical-align: top;\n",
       "    }\n",
       "\n",
       "    .dataframe thead th {\n",
       "        text-align: right;\n",
       "    }\n",
       "</style>\n",
       "<table border=\"1\" class=\"dataframe\">\n",
       "  <thead>\n",
       "    <tr style=\"text-align: right;\">\n",
       "      <th></th>\n",
       "      <th>title</th>\n",
       "      <th>release_date</th>\n",
       "      <th>cast</th>\n",
       "      <th>Country</th>\n",
       "      <th>genres</th>\n",
       "      <th>spoken_languages</th>\n",
       "      <th>Years</th>\n",
       "      <th>end_date</th>\n",
       "      <th>schedule</th>\n",
       "    </tr>\n",
       "  </thead>\n",
       "  <tbody>\n",
       "    <tr>\n",
       "      <th>0</th>\n",
       "      <td>Avatar</td>\n",
       "      <td>2009-12-10</td>\n",
       "      <td>['Sam Worthington', 'Zoe Saldana', 'Sigourney ...</td>\n",
       "      <td>USA</td>\n",
       "      <td>Action</td>\n",
       "      <td>English</td>\n",
       "      <td>2009</td>\n",
       "      <td>2010-02-24</td>\n",
       "      <td>schedule_Avatar</td>\n",
       "    </tr>\n",
       "    <tr>\n",
       "      <th>1</th>\n",
       "      <td>Pirates of the Caribbean: At World's End</td>\n",
       "      <td>2007-05-19</td>\n",
       "      <td>['Johnny Depp', 'Orlando Bloom', 'Keira Knight...</td>\n",
       "      <td>USA</td>\n",
       "      <td>Action</td>\n",
       "      <td>English</td>\n",
       "      <td>2007</td>\n",
       "      <td>2007-09-19</td>\n",
       "      <td>schedule_POTC</td>\n",
       "    </tr>\n",
       "    <tr>\n",
       "      <th>2</th>\n",
       "      <td>Spectre</td>\n",
       "      <td>2015-10-26</td>\n",
       "      <td>['Daniel Craig', 'Christoph Waltz', 'Léa Seydo...</td>\n",
       "      <td>USA</td>\n",
       "      <td>Action</td>\n",
       "      <td>English</td>\n",
       "      <td>2015</td>\n",
       "      <td>2016-01-07</td>\n",
       "      <td>schedule_Spectre</td>\n",
       "    </tr>\n",
       "  </tbody>\n",
       "</table>\n",
       "</div>"
      ],
      "text/plain": [
       "                                      title release_date  \\\n",
       "0                                    Avatar   2009-12-10   \n",
       "1  Pirates of the Caribbean: At World's End   2007-05-19   \n",
       "2                                   Spectre   2015-10-26   \n",
       "\n",
       "                                                cast Country  genres  \\\n",
       "0  ['Sam Worthington', 'Zoe Saldana', 'Sigourney ...     USA  Action   \n",
       "1  ['Johnny Depp', 'Orlando Bloom', 'Keira Knight...     USA  Action   \n",
       "2  ['Daniel Craig', 'Christoph Waltz', 'Léa Seydo...     USA  Action   \n",
       "\n",
       "  spoken_languages  Years    end_date          schedule  \n",
       "0          English   2009  2010-02-24   schedule_Avatar  \n",
       "1          English   2007  2007-09-19     schedule_POTC  \n",
       "2          English   2015  2016-01-07  schedule_Spectre  "
      ]
     },
     "execution_count": 12,
     "metadata": {},
     "output_type": "execute_result"
    }
   ],
   "source": [
    "df"
   ]
  },
  {
   "attachments": {},
   "cell_type": "markdown",
   "metadata": {},
   "source": [
    "## SCHEDULE"
   ]
  },
  {
   "cell_type": "code",
   "execution_count": 279,
   "metadata": {},
   "outputs": [],
   "source": [
    "import random\n",
    "def rdm_theater(liste):\n",
    "    return random.sample(liste, 2)"
   ]
  },
  {
   "cell_type": "code",
   "execution_count": 280,
   "metadata": {},
   "outputs": [
    {
     "name": "stdout",
     "output_type": "stream",
     "text": [
      "['GAUMONT_CHAMPS_ELYSEES_MARIGNAN_Paris_8e_Arrondissement', 'GRAND_REX_Paris_2e_Arrondissement', 'UGC_MONTPARNASSE_Paris_6e_Arrondissement', 'CGR_Nanterre', 'Pathé_Conflans']\n"
     ]
    }
   ],
   "source": [
    "list_theater = list(dft_new['indiv_name'])\n",
    "list_theater.append('CGR_Nanterre')\n",
    "list_theater.append('Pathé_Conflans')\n",
    "print(list_theater)"
   ]
  },
  {
   "cell_type": "code",
   "execution_count": 281,
   "metadata": {},
   "outputs": [],
   "source": [
    "import time\n",
    "indiv = \"\\n\\n\";\n",
    "for index, row in df.iterrows():\n",
    "    individual = row['schedule']\n",
    "    start = row['release_date']\n",
    "    end = row['end_date']\n",
    "    theater = rdm_theater(list_theater)\n",
    "    \n",
    "    text = f'    <!-- http://www.semanticweb.org/kiouloueleonor/ontologies/2023/2/untitled-ontology-16#{individual} -->\\n\\n'\n",
    "    text += f'    <owl:NamedIndividual rdf:about=\"http://www.semanticweb.org/kiouloueleonor/ontologies/2023/2/untitled-ontology-16#{individual}\">\\n'\n",
    "    text += f'\\t<rdf:type rdf:resource=\"http://www.semanticweb.org/kiouloueleonor/ontologies/2023/2/untitled-ontology-16#MovieSchedule\"/>\\n'\n",
    "    text += f'\\t<untitled-ontology-16:isPlayedIn rdf:resource=\"http://www.semanticweb.org/kiouloueleonor/ontologies/2023/2/untitled-ontology-16#{theater[0]}\"/>n'\n",
    "    text += f'\\t<untitled-ontology-16:isPlayedIn rdf:resource=\"http://www.semanticweb.org/kiouloueleonor/ontologies/2023/2/untitled-ontology-16#{theater[1]}\"/>n'\n",
    "    text += f'\\t<untitled-ontology-16:endDate>{end}</untitled-ontology-16:endDate>\\n'\n",
    "    text += f'\\t<untitled-ontology-16:startDate>{start}</untitled-ontology-16:startDate>\\n'\n",
    "    text += '    </owl:NamedIndividual>'\n",
    "    \n",
    "    #print(text)\n",
    "    indiv += \"\\n\\n\" + text + \"\\n\\n\"\n",
    "    time.sleep(1)\n",
    "text_final += indiv"
   ]
  },
  {
   "attachments": {},
   "cell_type": "markdown",
   "metadata": {},
   "source": [
    "## PERSON"
   ]
  },
  {
   "attachments": {},
   "cell_type": "markdown",
   "metadata": {},
   "source": [
    "Retrieve all the Actors"
   ]
  },
  {
   "cell_type": "code",
   "execution_count": 282,
   "metadata": {},
   "outputs": [],
   "source": [
    "acteurs = df['cast']\n",
    "liste_acteurs = []\n",
    "list_act1 = []\n",
    "for sublist in acteurs:\n",
    "    list_act1.append(sublist)\n",
    "    for item in sublist:\n",
    "        liste_acteurs.append(item)"
   ]
  },
  {
   "attachments": {},
   "cell_type": "markdown",
   "metadata": {},
   "source": [
    "Modification of the format of the list"
   ]
  },
  {
   "cell_type": "code",
   "execution_count": 283,
   "metadata": {},
   "outputs": [
    {
     "name": "stdout",
     "output_type": "stream",
     "text": [
      "['Sam Worthington', 'Zoe Saldana', 'Sigourney Weaver', 'Johnny Depp', 'Orlando Bloom', 'Keira Knightley', 'Daniel Craig', 'Christoph Waltz', 'Léa Seydoux']\n"
     ]
    }
   ],
   "source": [
    "new_list = []\n",
    "for item in list_act1:\n",
    "    eval_list = eval(item)\n",
    "    for name in eval_list:\n",
    "        new_list.append(name.strip(\"'\"))\n",
    "clean_list = [name.replace(\"'\", \"\") for name in new_list]       \n",
    "print(clean_list)"
   ]
  },
  {
   "attachments": {},
   "cell_type": "markdown",
   "metadata": {},
   "source": [
    "Retrieve the film played by each actors"
   ]
  },
  {
   "cell_type": "code",
   "execution_count": 284,
   "metadata": {},
   "outputs": [
    {
     "name": "stdout",
     "output_type": "stream",
     "text": [
      "['Daniel Craig', 'Christoph Waltz', 'Léa Seydoux']\n"
     ]
    }
   ],
   "source": [
    "liste1=clean_list[:3]\n",
    "liste2=clean_list[3:6]\n",
    "liste3=clean_list[-3:]\n",
    "print(liste3)"
   ]
  },
  {
   "cell_type": "code",
   "execution_count": 285,
   "metadata": {},
   "outputs": [],
   "source": [
    "def trad(liste, filmName):\n",
    "    indiv = \"\\n\\n\";\n",
    "    for i in liste:\n",
    "        name = i\n",
    "        individual = name.replace(\" \", \"_\")\n",
    "        filmName = filmName.replace(\" \", \"_\")\n",
    "\n",
    "        text = f'    <!-- http://www.semanticweb.org/kiouloueleonor/ontologies/2023/2/untitled-ontology-16#{individual} -->\\n\\n'\n",
    "        text += f'    <owl:NamedIndividual rdf:about=\"http://www.semanticweb.org/kiouloueleonor/ontologies/2023/2/untitled-ontology-16#{individual}\">\\n'\n",
    "        text += f'\\t<rdf:type rdf:resource=\"http://www.semanticweb.org/kiouloueleonor/ontologies/2023/2/untitled-ontology-16#Person\"/>\\n'\n",
    "        text += f'\\t<untitled-ontology-16:isActorOf rdf:resource=\"http://www.semanticweb.org/kiouloueleonor/ontologies/2023/2/untitled-ontology-16#{filmName}\"/>\\n'\n",
    "        text += f'\\t<untitled-ontology-16:Name>{individual}</untitled-ontology-16:Name>\\n'\n",
    "        text += '    </owl:NamedIndividual>'\n",
    "\n",
    "        #print(text)\n",
    "        indiv += \"\\n\\n\" + text + \"\\n\\n\"\n",
    "    return indiv\n"
   ]
  },
  {
   "cell_type": "code",
   "execution_count": 286,
   "metadata": {},
   "outputs": [],
   "source": [
    "rdf_text = \"\"\n",
    "rdf_text += trad(liste1, df['title'][0])\n",
    "rdf_text += trad(liste2, df['title'][1])\n",
    "rdf_text += trad(liste3, df['title'][2])\n",
    "text_final += rdf_text"
   ]
  },
  {
   "attachments": {},
   "cell_type": "markdown",
   "metadata": {},
   "source": [
    "## MOVIE"
   ]
  },
  {
   "cell_type": "code",
   "execution_count": 287,
   "metadata": {},
   "outputs": [],
   "source": [
    "indiv = \"\\n\\n\";\n",
    "for index, row in df.iterrows():\n",
    "    name = row['title']\n",
    "    years = row['Years']\n",
    "    Genres = row['genres']\n",
    "    Schedule = row['schedule']\n",
    "    Language = row['spoken_languages']\n",
    "    country = row['Country']\n",
    "    individual = name.replace(\" \", \"_\")\n",
    "    \n",
    "    text = f'    <!-- http://www.semanticweb.org/kiouloueleonor/ontologies/2023/2/untitled-ontology-16#{individual} -->\\n\\n'\n",
    "    text += f'    <owl:NamedIndividual rdf:about=\"http://www.semanticweb.org/kiouloueleonor/ontologies/2023/2/untitled-ontology-16#{individual}\">\\n'\n",
    "    text += f'\\t<rdf:type rdf:resource=\"http://www.semanticweb.org/kiouloueleonor/ontologies/2023/2/untitled-ontology-16#Movie\"/>\\n'\n",
    "    text += f'\\t<untitled-ontology-16:hasGenre rdf:resource=\"http://www.semanticweb.org/kiouloueleonor/ontologies/2023/2/untitled-ontology-16#{Genres}\"/>\\n'\n",
    "    text += f'\\t<untitled-ontology-16:hasSchedule rdf:resource=\"http://www.semanticweb.org/kiouloueleonor/ontologies/2023/2/untitled-ontology-16#{Schedule}\"/>\\n'\n",
    "    text += f'\\t<untitled-ontology-16:Country>{country}</untitled-ontology-16:Country>\\n'\n",
    "    text += f'\\t<untitled-ontology-16:Language>{Language}</untitled-ontology-16:Language>\\n'\n",
    "    text += f'\\t<untitled-ontology-16:Title>{name}</untitled-ontology-16:Title>\\n'\n",
    "    text += f'\\t<untitled-ontology-16:Year rdf:datatype=\"http://www.w3.org/2001/XMLSchema#integer\">{years}</untitled-ontology-16:Year>\\n'\n",
    "    text += '    </owl:NamedIndividual>'\n",
    "    \n",
    "    #print(text)\n",
    "    indiv += \"\\n\\n\" + text + \"\\n\\n\"\n",
    "indiv += '</rdf:RDF>\\n\\n\\n\\n'\n",
    "indiv += \"<!-- Generated by the OWL API (version 4.5.9.2019-02-01T07:24:44Z) https://github.com/owlcs/owlapi -->\\n\\n\"\n",
    "text_final += indiv"
   ]
  },
  {
   "attachments": {},
   "cell_type": "markdown",
   "metadata": {},
   "source": [
    "# IMPORT"
   ]
  },
  {
   "cell_type": "code",
   "execution_count": 289,
   "metadata": {},
   "outputs": [],
   "source": [
    "with open(\"projet.owl\", \"r+b\") as file:\n",
    "    contenu = file.read()\n",
    "    file.seek(-119, 1)\n",
    "    file.write(text_final.encode())"
   ]
  }
 ],
 "metadata": {
  "kernelspec": {
   "display_name": "base",
   "language": "python",
   "name": "python3"
  },
  "language_info": {
   "codemirror_mode": {
    "name": "ipython",
    "version": 3
   },
   "file_extension": ".py",
   "mimetype": "text/x-python",
   "name": "python",
   "nbconvert_exporter": "python",
   "pygments_lexer": "ipython3",
   "version": "3.9.13"
  },
  "orig_nbformat": 4
 },
 "nbformat": 4,
 "nbformat_minor": 2
}
